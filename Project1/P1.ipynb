{
 "cells": [
  {
   "cell_type": "markdown",
   "metadata": {},
   "source": [
    "# **Finding Lane Lines on the Road** \n",
    "***\n",
    "In this project, you will use the tools you learned about in the lesson to identify lane lines on the road.  You can develop your pipeline on a series of individual images, and later apply the result to a video stream (really just a series of images). Check out the video clip \"raw-lines-example.mp4\" (also contained in this repository) to see what the output should look like after using the helper functions below. \n",
    "\n",
    "Once you have a result that looks roughly like \"raw-lines-example.mp4\", you'll need to get creative and try to average and/or extrapolate the line segments you've detected to map out the full extent of the lane lines.  You can see an example of the result you're going for in the video \"P1_example.mp4\".  Ultimately, you would like to draw just one line for the left side of the lane, and one for the right.\n",
    "\n",
    "---\n",
    "Let's have a look at our first image called 'test_images/solidWhiteRight.jpg'.  Run the 2 cells below (hit Shift-Enter or the \"play\" button above) to display the image.\n",
    "\n",
    "**Note: If, at any point, you encounter frozen display windows or other confounding issues, you can always start again with a clean slate by going to the \"Kernel\" menu above and selecting \"Restart & Clear Output\".**\n",
    "\n",
    "---"
   ]
  },
  {
   "cell_type": "markdown",
   "metadata": {},
   "source": [
    "**The tools you have are color selection, region of interest selection, grayscaling, Gaussian smoothing, Canny Edge Detection and Hough Tranform line detection.  You  are also free to explore and try other techniques that were not presented in the lesson.  Your goal is piece together a pipeline to detect the line segments in the image, then average/extrapolate them and draw them onto the image for display (as below).  Once you have a working pipeline, try it out on the video stream below.**\n",
    "\n",
    "---\n",
    "\n",
    "<figure>\n",
    " <img src=\"line-segments-example.jpg\" width=\"380\" alt=\"Combined Image\" />\n",
    " <figcaption>\n",
    " <p></p> \n",
    " <p style=\"text-align: center;\"> Your output should look something like this (above) after detecting line segments using the helper functions below </p> \n",
    " </figcaption>\n",
    "</figure>\n",
    " <p></p> \n",
    "<figure>\n",
    " <img src=\"laneLines_thirdPass.jpg\" width=\"380\" alt=\"Combined Image\" />\n",
    " <figcaption>\n",
    " <p></p> \n",
    " <p style=\"text-align: center;\"> Your goal is to connect/average/extrapolate line segments to get output like this</p> \n",
    " </figcaption>\n",
    "</figure>"
   ]
  },
  {
   "cell_type": "markdown",
   "metadata": {},
   "source": [
    "**Run the cell below to import some packages.  If you get an `import error` for a package you've already installed, try changing your kernel (select the Kernel menu above --> Change Kernel).  Still have problems?  Try relaunching Jupyter Notebook from the terminal prompt.  Also, see [this forum post](https://carnd-forums.udacity.com/cq/viewquestion.action?spaceKey=CAR&id=29496372&questionTitle=finding-lanes---import-cv2-fails-even-though-python-in-the-terminal-window-has-no-problem-with-import-cv2) for more troubleshooting tips.**  "
   ]
  },
  {
   "cell_type": "code",
   "execution_count": 1,
   "metadata": {
    "collapsed": false
   },
   "outputs": [],
   "source": [
    "#importing some useful packages\n",
    "import matplotlib.pyplot as plt\n",
    "import matplotlib.image as mpimg\n",
    "import numpy as np\n",
    "import cv2\n",
    "import os\n",
    "%matplotlib inline"
   ]
  },
  {
   "cell_type": "markdown",
   "metadata": {},
   "source": [
    "**Some OpenCV functions (beyond those introduced in the lesson) that might be useful for this project are:**\n",
    "\n",
    "`cv2.inRange()` for color selection  \n",
    "`cv2.fillPoly()` for regions selection  \n",
    "`cv2.line()` to draw lines on an image given endpoints  \n",
    "`cv2.addWeighted()` to coadd / overlay two images\n",
    "`cv2.cvtColor()` to grayscale or change color\n",
    "`cv2.imwrite()` to output images to file  \n",
    "`cv2.bitwise_and()` to apply a mask to an image\n",
    "\n",
    "**Check out the OpenCV documentation to learn about these and discover even more awesome functionality!**"
   ]
  },
  {
   "cell_type": "markdown",
   "metadata": {},
   "source": [
    "Below are some helper functions to help get you started. They should look familiar from the lesson!"
   ]
  },
  {
   "cell_type": "code",
   "execution_count": 2,
   "metadata": {
    "collapsed": false
   },
   "outputs": [],
   "source": [
    "import math\n",
    "\n",
    "def grayscale(img):\n",
    "    \"\"\"Applies the Grayscale transform\n",
    "    This will return an image with only one color channel\n",
    "    but NOTE: to see the returned image as grayscale\n",
    "    (assuming your grayscaled image is called 'gray')\n",
    "    you should call plt.imshow(gray, cmap='gray')\"\"\"\n",
    "    return cv2.cvtColor(img, cv2.COLOR_RGB2GRAY)\n",
    "    # Or use BGR2GRAY if you read an image with cv2.imread()\n",
    "    # return cv2.cvtColor(img, cv2.COLOR_BGR2GRAY)\n",
    "\n",
    "def yellowgrayscale(img):\n",
    "    #enhance yellow then find grayscale\n",
    "    # Based on an improved version of the grayscale \n",
    "    # function contributed by sjamthe in github\n",
    "    # https://github.com/sjamthe/Self-driving-Car-ND-Lane-Finding/blob/master/P1-submit.ipynb\n",
    "           \n",
    "    #RGB limits\n",
    "    lower = np.array([80,80,40])\n",
    "    upper = np.array([255,255,80])\n",
    "    \n",
    "    # Threshold the HSV image to get only yellow colors\n",
    "    mask = cv2.inRange(img, lower, upper)\n",
    "    #show_image('mask',mask)\n",
    " \n",
    "    # Bitwise-AND mask and original image\n",
    "    res = cv2.bitwise_and(img,img, mask= mask)\n",
    "    res = cv2.addWeighted(res, 1.0, img, 1.0, 0)  \n",
    "    res = grayscale(res)\n",
    " \n",
    "    return res    \n",
    "    \n",
    "def canny(img, low_threshold, high_threshold):\n",
    "    \"\"\"Applies the Canny transform\"\"\"\n",
    "    return cv2.Canny(img, low_threshold, high_threshold)\n",
    "\n",
    "def gaussian_blur(img, kernel_size):\n",
    "    \"\"\"Applies a Gaussian Noise kernel\"\"\"\n",
    "    return cv2.GaussianBlur(img, (kernel_size, kernel_size), 0)\n",
    "\n",
    "def region_of_interest(img, vertices):\n",
    "    \"\"\"\n",
    "    Applies an image mask.\n",
    "    \n",
    "    Only keeps the region of the image defined by the polygon\n",
    "    formed from `vertices`. The rest of the image is set to black.\n",
    "    \"\"\"\n",
    "    #defining a blank mask to start with\n",
    "    mask = np.zeros_like(img)   \n",
    "    \n",
    "    #defining a 3 channel or 1 channel color to fill the mask with depending on the input image\n",
    "    if len(img.shape) > 2:\n",
    "        channel_count = img.shape[2]  # i.e. 3 or 4 depending on your image\n",
    "        ignore_mask_color = (255,) * channel_count\n",
    "    else:\n",
    "        ignore_mask_color = 255\n",
    "        \n",
    "    #filling pixels inside the polygon defined by \"vertices\" with the fill color    \n",
    "    cv2.fillPoly(mask, vertices, ignore_mask_color)\n",
    "    \n",
    "    #returning the image only where mask pixels are nonzero\n",
    "    masked_image = cv2.bitwise_and(img, mask)\n",
    "    return masked_image\n",
    "\n",
    "\n",
    "def draw_lines(img, lines, color=[255, 0, 0], thickness=2):\n",
    "    \"\"\"\n",
    "    NOTE: this is the function you might want to use as a starting point once you want to \n",
    "    average/extrapolate the line segments you detect to map out the full\n",
    "    extent of the lane (going from the result shown in raw-lines-example.mp4\n",
    "    to that shown in P1_example.mp4).  \n",
    "    \n",
    "    Think about things like separating line segments by their \n",
    "    slope ((y2-y1)/(x2-x1)) to decide which segments are part of the left\n",
    "    line vs. the right line.  Then, you can average the position of each of \n",
    "    the lines and extrapolate to the top and bottom of the lane.\n",
    "    \n",
    "    This function draws `lines` with `color` and `thickness`.    \n",
    "    Lines are drawn on the image inplace (mutates the image).\n",
    "    If you want to make the lines semi-transparent, think about combining\n",
    "    this function with the weighted_img() function below\n",
    "    \"\"\"\n",
    "    if len(img.shape) == 2:\n",
    "        img = np.dstack((img, img, img))\n",
    "        \n",
    "#     print(lines)\n",
    "    for line in lines:\n",
    "        for x1,y1,x2,y2 in line:\n",
    "            #print(x1, y1, x2, y2)\n",
    "            if x1 >= 0 and x1 < img.shape[1] and \\\n",
    "                y1 >= 0 and y1 < img.shape[0] and \\\n",
    "                x2 >= 0 and x2 < img.shape[1] and \\\n",
    "                y2 >= 0 and y2 < img.shape[0]:\n",
    "                cv2.line(img, (x1, y1), (x2, y2), color, thickness)\n",
    "            \n",
    "def hough_lines(img, rho, theta, threshold, min_line_len, max_line_gap):\n",
    "    \"\"\"\n",
    "    `img` should be the output of a Canny transform.\n",
    "        \n",
    "    Returns an image with hough lines drawn.\n",
    "    \"\"\"\n",
    "    lines = cv2.HoughLinesP(img, rho, theta, threshold, np.array([]), minLineLength=min_line_len, maxLineGap=max_line_gap)\n",
    "    line_img = np.zeros((img.shape[0], img.shape[1], 3), dtype=np.uint8)\n",
    "    draw_lines(line_img, lines)\n",
    "    return line_img\n",
    "\n",
    "# Python 3 has support for cool math symbols.\n",
    "\n",
    "def weighted_img(img, initial_img, α=0.8, β=1., λ=0.):\n",
    "    \"\"\"\n",
    "    `img` is the output of the hough_lines(), An image with lines drawn on it.\n",
    "    Should be a blank image (all black) with lines drawn on it.\n",
    "    \n",
    "    `initial_img` should be the image before any processing.\n",
    "    \n",
    "    The result image is computed as follows:\n",
    "    \n",
    "    initial_img * α + img * β + λ\n",
    "    NOTE: initial_img and img must be the same shape!\n",
    "    \"\"\"\n",
    "    return cv2.addWeighted(initial_img, α, img, β, λ)\n"
   ]
  },
  {
   "cell_type": "markdown",
   "metadata": {},
   "source": [
    "## Test on Images\n",
    "\n",
    "Now you should build your pipeline to work on the images in the directory \"test_images\"  \n",
    "**You should make sure your pipeline works well on these images before you try the videos.**"
   ]
  },
  {
   "cell_type": "markdown",
   "metadata": {},
   "source": [
    "run your solution on all test_images and make copies into the test_images directory)."
   ]
  },
  {
   "cell_type": "code",
   "execution_count": 3,
   "metadata": {
    "collapsed": false
   },
   "outputs": [],
   "source": [
    "# image = mpimg.imread('test_images/solidWhiteCurve.jpg')\n",
    "# ysize = image.shape[0]\n",
    "# xsize = image.shape[1]\n",
    "# print('This image is:', type(image), 'with dimesions:', image.shape)\n",
    "# input_image = np.copy(image)\n",
    "\n",
    "# y_gray=yellowgrayscale(input_image)\n",
    "# plt.imshow(y_gray)"
   ]
  },
  {
   "cell_type": "code",
   "execution_count": 4,
   "metadata": {
    "collapsed": false
   },
   "outputs": [],
   "source": [
    "# blurry_img=gaussian_blur(y_gray,5)\n",
    "# plt.imshow(blurry_img)"
   ]
  },
  {
   "cell_type": "code",
   "execution_count": 5,
   "metadata": {
    "collapsed": false
   },
   "outputs": [],
   "source": [
    "# cannied_img = canny(blurry_img,50,150)\n",
    "# plt.imshow(cannied_img)"
   ]
  },
  {
   "cell_type": "code",
   "execution_count": 6,
   "metadata": {
    "collapsed": false
   },
   "outputs": [],
   "source": [
    "# vertice_set = np.array([[(100,ysize),(475, 325), (525, 325), (xsize, ysize)]], dtype=np.int32)\n",
    "# masked_img = region_of_interest(cannied_img, vertice_set )   \n",
    "# plt.imshow(masked_img)   "
   ]
  },
  {
   "cell_type": "code",
   "execution_count": 7,
   "metadata": {
    "collapsed": false
   },
   "outputs": [],
   "source": [
    "# #def hough_lines(img, rho, theta, threshold, min_line_len, max_line_gap)\n",
    "# houghed_img = hough_lines(masked_img, 2, np.pi/180., 45, 40, 100)\n",
    "# plt.imshow(houghed_img)\n"
   ]
  },
  {
   "cell_type": "markdown",
   "metadata": {},
   "source": [
    "# Test on Images\n",
    "Now you should build your pipeline to work on the images in the directory \"test_images\"\n",
    "You should make sure your pipeline works well on these images before you try the videos."
   ]
  },
  {
   "cell_type": "code",
   "execution_count": 8,
   "metadata": {
    "collapsed": false
   },
   "outputs": [],
   "source": [
    "# PBG Pipeline\n",
    "\n",
    "def get_lines (image):\n",
    "    rho = 2\n",
    "    theta = np.pi/180.\n",
    "    threshold = 60\n",
    "    min_line_len = 120\n",
    "    max_line_gap = 100\n",
    "    lines = cv2.HoughLinesP(image, rho, theta, threshold, np.array([]), \n",
    "                            minLineLength=min_line_len,\n",
    "                            maxLineGap=max_line_gap)    \n",
    "    #print(lines)\n",
    "    return lines\n",
    "\n",
    "def linefit (line_points):\n",
    "    # Compute y = mx + b for each two points\n",
    "    #x1, y1, x2, y2 = line_points\n",
    "    x1 = line_points[0]\n",
    "    y1 = line_points[1]\n",
    "    x2 = line_points[2]\n",
    "    y2 = line_points[3]\n",
    "#     print(x1, y1, x2, y2)\n",
    "    \n",
    "    m = (y2 - y1) / (x2 - x1)\n",
    "    b = y1 - m * x1\n",
    "#     print(m)\n",
    "#     print(b)\n",
    "    return (m, b)\n",
    "\n",
    "def get_lanemarks(img_shape, lines):\n",
    "#     print(img_shape)\n",
    "#     print(lines)\n",
    "    min_slope=0.5\n",
    "    max_slope=2.0\n",
    "    \n",
    "    m1=np.array([])\n",
    "    b1=np.array([])\n",
    "\n",
    "    m2=np.array([])\n",
    "    b2=np.array([])\n",
    "    \n",
    "    min_y=img_shape[0]\n",
    "#     print (min_y)\n",
    "    \n",
    "    for line_points in lines:\n",
    "        # fitting to line equation\n",
    "        (m,b) = linefit(line_points)\n",
    "#         print(m,b)\n",
    "        # filtering the line based on the slope\n",
    "        assert not np.isnan(m)        \n",
    "        if abs(m) > min_slope and abs(m) < max_slope:\n",
    "            min_y = min(min_y, line_points[1])\n",
    "            min_y = min(min_y, line_points[3])\n",
    "#             print(min_y)\n",
    "            \n",
    "            # distinguish left and right by sign of the slope\n",
    "            if (m > 0):\n",
    "                m1 = np.append(m1, m)\n",
    "                b1 = np.append(b1, b)\n",
    "#                 print(m, m1,b1)\n",
    "            else:\n",
    "                m2 = np.append(m2, m)\n",
    "                b2 = np.append(b2, b)\n",
    "#                 print(m2,b2)\n",
    "                \n",
    "    # find average of two main lines\n",
    "    m1_mean = np.mean(m1)\n",
    "    b1_mean = np.mean(b1)\n",
    "#     print(m1)\n",
    "#     print(b1)\n",
    "    \n",
    "    m2_mean = np.mean(m2)\n",
    "    b2_mean = np.mean(b2)\n",
    "#     print (m2)\n",
    "#     print (b2)\n",
    "    \n",
    "    # Coordinates of the intersection\n",
    "    x_intersec = (b2_mean - b1_mean) / (m1_mean - m2_mean)\n",
    "    \n",
    "    \n",
    "    y_intersec = m1_mean * x_intersec + b1_mean\n",
    "    \n",
    "#     print (x_intersec, y_intersec)\n",
    "    \n",
    "    # highest point of the line\n",
    "    y_end = max(y_intersec, min_y)\n",
    "    \n",
    "    # x coordinate of the start of the line on bottom frame\n",
    "    \n",
    "    y1 = img_shape[0] - 1\n",
    "    x1 = (y1 - b1_mean) / m1_mean\n",
    "    y2 = img_shape[0] - 1\n",
    "    x2 = (img_shape[0] - b2_mean) / m2_mean\n",
    "    \n",
    "    x_end_1 = (y_end - b1_mean) / m1_mean\n",
    "    x_end_2 = (y_end - b2_mean) / m2_mean\n",
    "    \n",
    "    return np.array([[[x1, y1, x_end_1, y_end]], [[x2, y2, x_end_2, y_end]]]).astype(int)\n",
    "\n",
    "\n",
    "def overlay_markers(lanemarkers, image):\n",
    "    # First a black image\n",
    "    lines_image = np.copy(image)*0\n",
    "    # then the lines\n",
    "    draw_lines(lines_image, lanemarkers, color=[255,0,0], thickness = 10)\n",
    "    # blended lines\n",
    "    image_out = weighted_img(lines_image, image)\n",
    "    return image_out\n",
    "\n",
    "def pipeline (img_input):\n",
    "    \n",
    "    # Prepare the image \n",
    "    \n",
    "    y_gray=yellowgrayscale(img_input)\n",
    "#     plt.subplot(2,2,1)\n",
    "#     plt.imshow(y_gray)\n",
    "    \n",
    "    # Blurr the image\n",
    "    blurry_img=gaussian_blur(y_gray,5)\n",
    "#     plt.subplot(2,2,2)\n",
    "#     plt.imshow(blurry_img)\n",
    "    \n",
    "    # get the edges using canny filter\n",
    "    cannied_img = canny(blurry_img,50,150)\n",
    "#     print(cannied_img.shape)\n",
    "#     plt.subplot(3,3,3)\n",
    "#     plt.imshow(cannied_img)\n",
    "    \n",
    "    # mask the region of interest\n",
    "    vertice_set = np.array([[(0,540),\n",
    "                             (400, 350), \n",
    "                             (600, 350),\n",
    "                             (cannied_img.shape[1], \n",
    "                              cannied_img.shape[0])]], \n",
    "                            dtype=np.int32)\n",
    "#     print(vertice_set)\n",
    "    masked_img = region_of_interest(cannied_img, vertice_set)   \n",
    "#     plt.subplot(3,3,4)\n",
    "#     plt.imshow(masked_img)\n",
    "    \n",
    "    # Hough the Image\n",
    "#     houghed_img = hough_lines(masked_img, 2, np.pi/180., 60, 120, 100)\n",
    "#     plt.imshow(houghed_img)   \n",
    "    \n",
    "    # get the lines from the hough transformation\n",
    "    lane_lines = get_lines(masked_img)\n",
    "#     print (lane_lines)\n",
    "    img_lines = np.copy(img_input)\n",
    "#     plt.imshow(img_lines)\n",
    "#     draw_lines(img_lines, lane_lines)\n",
    "    \n",
    "    \n",
    "    # extract lanes for both sides\n",
    "    lanemarkers = get_lanemarks(masked_img.shape, lane_lines.squeeze())\n",
    "#     plt.subplot(3,3,5)\n",
    "#     plt.imshow(lanemarkers)\n",
    "    \n",
    "#     # set overlayed markers\n",
    "    image_output = overlay_markers(lanemarkers, img_input)\n",
    "# #     plt.subplot(3,3,6)\n",
    "#     plt.imshow(image_output)\n",
    "    \n",
    "#     #return img_lines\n",
    "#     return image_output\n",
    "\n",
    "    return image_output\n",
    "\n",
    "\n",
    "\n",
    "    "
   ]
  },
  {
   "cell_type": "code",
   "execution_count": 9,
   "metadata": {
    "collapsed": false
   },
   "outputs": [
    {
     "name": "stderr",
     "output_type": "stream",
     "text": [
      "/root/miniconda3/envs/carnd-term1/lib/python3.5/site-packages/numpy/core/_methods.py:59: RuntimeWarning: Mean of empty slice.\n",
      "  warnings.warn(\"Mean of empty slice.\", RuntimeWarning)\n",
      "/root/miniconda3/envs/carnd-term1/lib/python3.5/site-packages/numpy/core/_methods.py:70: RuntimeWarning: invalid value encountered in double_scalars\n",
      "  ret = ret.dtype.type(ret / rcount)\n"
     ]
    }
   ],
   "source": [
    "import os\n",
    "test_images = os.listdir(\"test_images/\")\n",
    "if not os.path.isdir(\"results\"):\n",
    "    os.mkdir(\"results\")\n",
    "#print(test_images)\n",
    "    \n",
    "    \n",
    "for i in range(0, len(test_images)):\n",
    "    images = mpimg.imread(os.path.join(\"test_images\", test_images[i]))\n",
    "    img_out = pipeline(images)\n",
    "    mpimg.imsave(os.path.join(\"results\", test_images[i]), img_out)"
   ]
  },
  {
   "cell_type": "markdown",
   "metadata": {},
   "source": [
    "## Test on Videos\n",
    "\n",
    "You know what's cooler than drawing lanes over images? Drawing lanes over video!\n",
    "\n",
    "We can test our solution on two provided videos:\n",
    "\n",
    "`solidWhiteRight.mp4`\n",
    "\n",
    "`solidYellowLeft.mp4`\n",
    "\n",
    "**Note: if you get an `import error` when you run the next cell, try changing your kernel (select the Kernel menu above --> Change Kernel).  Still have problems?  Try relaunching Jupyter Notebook from the terminal prompt. Also, check out [this forum post](https://carnd-forums.udacity.com/questions/22677062/answers/22677109) for more troubleshooting tips.**\n",
    "\n",
    "**If you get an error that looks like this:**\n",
    "```\n",
    "NeedDownloadError: Need ffmpeg exe. \n",
    "You can download it by calling: \n",
    "imageio.plugins.ffmpeg.download()\n",
    "```\n",
    "**Follow the instructions in the error message and check out [this forum post](https://carnd-forums.udacity.com/display/CAR/questions/26218840/import-videofileclip-error) for more troubleshooting tips across operating systems.**"
   ]
  },
  {
   "cell_type": "code",
   "execution_count": 10,
   "metadata": {
    "collapsed": true
   },
   "outputs": [],
   "source": [
    "# Import everything needed to edit/save/watch video clips\n",
    "from moviepy.editor import VideoFileClip\n",
    "from IPython.display import HTML"
   ]
  },
  {
   "cell_type": "code",
   "execution_count": 11,
   "metadata": {
    "collapsed": true
   },
   "outputs": [],
   "source": [
    "def process_image(image):\n",
    "    # NOTE: The output you return should be a color image (3 channel) for processing video below\n",
    "    # TODO: put your pipeline here,\n",
    "    # you should return the final output (image with lines are drawn on lanes)\n",
    "\n",
    "    return result"
   ]
  },
  {
   "cell_type": "markdown",
   "metadata": {},
   "source": [
    "Let's try the one with the solid white lane on the right first ..."
   ]
  },
  {
   "cell_type": "code",
   "execution_count": 12,
   "metadata": {
    "collapsed": false
   },
   "outputs": [
    {
     "name": "stdout",
     "output_type": "stream",
     "text": [
      "[MoviePy] >>>> Building video White.mp4\n",
      "[MoviePy] Writing video White.mp4\n"
     ]
    },
    {
     "name": "stderr",
     "output_type": "stream",
     "text": [
      "100%|█████████▉| 221/222 [00:07<00:00, 30.64it/s]\n"
     ]
    },
    {
     "name": "stdout",
     "output_type": "stream",
     "text": [
      "[MoviePy] Done.\n",
      "[MoviePy] >>>> Video ready: White.mp4 \n",
      "\n",
      "CPU times: user 5.4 s, sys: 230 ms, total: 5.63 s\n",
      "Wall time: 8.11 s\n"
     ]
    }
   ],
   "source": [
    "white_output = 'White.mp4'\n",
    "clip1 = VideoFileClip(\"solidWhiteRight.mp4\")\n",
    "white_clip = clip1.fl_image(pipeline) #NOTE: this function expects color images!!\n",
    "%time white_clip.write_videofile(white_output, audio=False)"
   ]
  },
  {
   "cell_type": "markdown",
   "metadata": {},
   "source": [
    "Play the video inline, or if you prefer find the video in your filesystem (should be in the same directory) and play it in your video player of choice."
   ]
  },
  {
   "cell_type": "code",
   "execution_count": 13,
   "metadata": {
    "collapsed": false,
    "scrolled": true
   },
   "outputs": [
    {
     "data": {
      "text/html": [
       "\n",
       "<video width=\"960\" height=\"540\" controls>\n",
       "  <source src=\"White.mp4\">\n",
       "</video>\n"
      ],
      "text/plain": [
       "<IPython.core.display.HTML object>"
      ]
     },
     "execution_count": 13,
     "metadata": {},
     "output_type": "execute_result"
    }
   ],
   "source": [
    "HTML(\"\"\"\n",
    "<video width=\"960\" height=\"540\" controls>\n",
    "  <source src=\"{0}\">\n",
    "</video>\n",
    "\"\"\".format(white_output))"
   ]
  },
  {
   "cell_type": "markdown",
   "metadata": {},
   "source": [
    "**At this point, if you were successful you probably have the Hough line segments drawn onto the road, but what about identifying the full extent of the lane and marking it clearly as in the example video (P1_example.mp4)?  Think about defining a line to run the full length of the visible lane based on the line segments you identified with the Hough Transform.  Modify your draw_lines function accordingly and try re-running your pipeline.**"
   ]
  },
  {
   "cell_type": "markdown",
   "metadata": {},
   "source": [
    "Now for the one with the solid yellow lane on the left. This one's more tricky!"
   ]
  },
  {
   "cell_type": "code",
   "execution_count": 14,
   "metadata": {
    "collapsed": false
   },
   "outputs": [
    {
     "name": "stdout",
     "output_type": "stream",
     "text": [
      "[MoviePy] >>>> Building video yellow.mp4\n",
      "[MoviePy] Writing video yellow.mp4\n"
     ]
    },
    {
     "name": "stderr",
     "output_type": "stream",
     "text": [
      "100%|█████████▉| 681/682 [00:22<00:00, 30.42it/s]\n"
     ]
    },
    {
     "name": "stdout",
     "output_type": "stream",
     "text": [
      "[MoviePy] Done.\n",
      "[MoviePy] >>>> Video ready: yellow.mp4 \n",
      "\n",
      "CPU times: user 17.1 s, sys: 660 ms, total: 17.7 s\n",
      "Wall time: 23.1 s\n"
     ]
    }
   ],
   "source": [
    "yellow_output = 'yellow.mp4'\n",
    "clip2 = VideoFileClip('solidYellowLeft.mp4')\n",
    "yellow_clip = clip2.fl_image(pipeline)\n",
    "%time yellow_clip.write_videofile(yellow_output, audio=False)"
   ]
  },
  {
   "cell_type": "code",
   "execution_count": 15,
   "metadata": {
    "collapsed": false
   },
   "outputs": [
    {
     "data": {
      "text/html": [
       "\n",
       "<video width=\"960\" height=\"540\" controls>\n",
       "  <source src=\"yellow.mp4\">\n",
       "</video>\n"
      ],
      "text/plain": [
       "<IPython.core.display.HTML object>"
      ]
     },
     "execution_count": 15,
     "metadata": {},
     "output_type": "execute_result"
    }
   ],
   "source": [
    "HTML(\"\"\"\n",
    "<video width=\"960\" height=\"540\" controls>\n",
    "  <source src=\"{0}\">\n",
    "</video>\n",
    "\"\"\".format(yellow_output))"
   ]
  },
  {
   "cell_type": "markdown",
   "metadata": {},
   "source": [
    "## Reflections\n",
    "\n",
    "Congratulations on finding the lane lines!  As the final step in this project, we would like you to share your thoughts on your lane finding pipeline... specifically, how could you imagine making your algorithm better / more robust?  Where will your current algorithm be likely to fail?\n",
    "\n",
    "Please add your thoughts below,  and if you're up for making your pipeline more robust, be sure to scroll down and check out the optional challenge video below!\n",
    "\n",
    "Pipeline: \n",
    "- Preprocessing of the image\n",
    "- Gaussian Blurr\n",
    "- Canny Filter\n",
    "- Masking\n",
    "- Hough Filtering\n",
    "- Extraction of the lanes by:\n",
    "- defining max and min slopes\n",
    "- separating left and right\n",
    "- averaging the slopes of the sample lines at each side of the road\n",
    "\n",
    "I perceived significant performance improvements through:\n",
    "- usage of yellow colors on the preprocessing of the image\n",
    "- reducing the height of the trapezoidal mask.\n",
    "\n"
   ]
  },
  {
   "cell_type": "markdown",
   "metadata": {},
   "source": [
    "## Submission\n",
    "\n",
    "If you're satisfied with your video outputs it's time to submit!  Submit this ipython notebook for review.\n"
   ]
  },
  {
   "cell_type": "markdown",
   "metadata": {
    "collapsed": true
   },
   "source": [
    "## Optional Challenge\n",
    "\n",
    "Try your lane finding pipeline on the video below.  Does it still work?  Can you figure out a way to make it more robust?  If you're up for the challenge, modify your pipeline so it works with this video and submit it along with the rest of your project!"
   ]
  },
  {
   "cell_type": "code",
   "execution_count": 16,
   "metadata": {
    "collapsed": false
   },
   "outputs": [
    {
     "name": "stdout",
     "output_type": "stream",
     "text": [
      "[MoviePy] >>>> Building video extra.mp4\n",
      "[MoviePy] Writing video extra.mp4\n"
     ]
    },
    {
     "name": "stderr",
     "output_type": "stream",
     "text": [
      "100%|██████████| 251/251 [00:16<00:00, 15.14it/s]\n"
     ]
    },
    {
     "name": "stdout",
     "output_type": "stream",
     "text": [
      "[MoviePy] Done.\n",
      "[MoviePy] >>>> Video ready: extra.mp4 \n",
      "\n",
      "CPU times: user 10.4 s, sys: 540 ms, total: 11 s\n",
      "Wall time: 18.2 s\n"
     ]
    }
   ],
   "source": [
    "challenge_output = 'extra.mp4'\n",
    "clip2 = VideoFileClip('challenge.mp4')\n",
    "challenge_clip = clip2.fl_image(pipeline)\n",
    "%time challenge_clip.write_videofile(challenge_output, audio=False)"
   ]
  },
  {
   "cell_type": "code",
   "execution_count": 17,
   "metadata": {
    "collapsed": false
   },
   "outputs": [
    {
     "data": {
      "text/html": [
       "\n",
       "<video width=\"960\" height=\"540\" controls>\n",
       "  <source src=\"extra.mp4\">\n",
       "</video>\n"
      ],
      "text/plain": [
       "<IPython.core.display.HTML object>"
      ]
     },
     "execution_count": 17,
     "metadata": {},
     "output_type": "execute_result"
    }
   ],
   "source": [
    "HTML(\"\"\"\n",
    "<video width=\"960\" height=\"540\" controls>\n",
    "  <source src=\"{0}\">\n",
    "</video>\n",
    "\"\"\".format(challenge_output))"
   ]
  },
  {
   "cell_type": "code",
   "execution_count": null,
   "metadata": {
    "collapsed": true
   },
   "outputs": [],
   "source": []
  },
  {
   "cell_type": "code",
   "execution_count": null,
   "metadata": {
    "collapsed": true
   },
   "outputs": [],
   "source": []
  }
 ],
 "metadata": {
  "anaconda-cloud": {},
  "kernelspec": {
   "display_name": "Python 3",
   "language": "python",
   "name": "python3"
  },
  "language_info": {
   "codemirror_mode": {
    "name": "ipython",
    "version": 3
   },
   "file_extension": ".py",
   "mimetype": "text/x-python",
   "name": "python",
   "nbconvert_exporter": "python",
   "pygments_lexer": "ipython3",
   "version": "3.5.2"
  },
  "widgets": {
   "state": {},
   "version": "1.1.2"
  }
 },
 "nbformat": 4,
 "nbformat_minor": 0
}
